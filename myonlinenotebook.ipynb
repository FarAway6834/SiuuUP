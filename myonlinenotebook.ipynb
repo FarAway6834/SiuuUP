{
  "nbformat": 4,
  "nbformat_minor": 0,
  "metadata": {
    "colab": {
      "provenance": [],
      "authorship_tag": "ABX9TyNl4RODGZA/Hg59Y/8wpYxO",
      "include_colab_link": true
    },
    "kernelspec": {
      "name": "python3",
      "display_name": "Python 3"
    },
    "language_info": {
      "name": "python"
    }
  },
  "cells": [
    {
      "cell_type": "markdown",
      "metadata": {
        "id": "view-in-github",
        "colab_type": "text"
      },
      "source": [
        "<a href=\"https://colab.research.google.com/github/FarAway6834/SiuuUP/blob/main/myonlinenotebook.ipynb\" target=\"_parent\"><img src=\"https://colab.research.google.com/assets/colab-badge.svg\" alt=\"Open In Colab\"/></a>"
      ]
    },
    {
      "cell_type": "code",
      "execution_count": 1,
      "metadata": {
        "colab": {
          "base_uri": "https://localhost:8080/"
        },
        "id": "G62sxEEgQv7K",
        "outputId": "cdd2b7e3-7dcf-4d63-fa9b-a82d0f73c0a9"
      },
      "outputs": [
        {
          "output_type": "stream",
          "name": "stdout",
          "text": [
            "Collecting mydockeruse\n",
            "  Downloading mydockeruse-0.0.5-py3-none-any.whl.metadata (1.0 kB)\n",
            "Collecting mytool4docker (from mydockeruse)\n",
            "  Downloading mytool4docker-0.0.1-py3-none-any.whl.metadata (900 bytes)\n",
            "Collecting akatool (from mytool4docker->mydockeruse)\n",
            "  Downloading akatool-0.0.5-py3-none-any.whl.metadata (753 bytes)\n",
            "Collecting mytoolset (from mytool4docker->mydockeruse)\n",
            "  Downloading mytoolset-0.0.3-py3-none-any.whl.metadata (1.0 kB)\n",
            "Collecting edprompt (from akatool->mytool4docker->mydockeruse)\n",
            "  Downloading edprompt-0.0.10-py3-none-any.whl.metadata (820 bytes)\n",
            "Collecting lbdc (from akatool->mytool4docker->mydockeruse)\n",
            "  Downloading lbdc-0.0.3-py3-none-any.whl.metadata (1.0 kB)\n",
            "Requirement already satisfied: sympy in /usr/local/lib/python3.11/dist-packages (from akatool->mytool4docker->mydockeruse) (1.13.1)\n",
            "Collecting ipitin (from akatool->mytool4docker->mydockeruse)\n",
            "  Downloading ipitin-0.0.3-py3-none-any.whl.metadata (687 bytes)\n",
            "Collecting wget (from mytoolset->mytool4docker->mydockeruse)\n",
            "  Downloading wget-3.2.zip (10 kB)\n",
            "  Preparing metadata (setup.py) ... \u001b[?25l\u001b[?25hdone\n",
            "Collecting pydockerNpygit2 (from mytoolset->mytool4docker->mydockeruse)\n",
            "  Downloading pydockerNpygit2-0.0.1-py3-none-any.whl.metadata (959 bytes)\n",
            "Collecting clro (from edprompt->akatool->mytool4docker->mydockeruse)\n",
            "  Downloading clro-0.0.2-py3-none-any.whl.metadata (734 bytes)\n",
            "Requirement already satisfied: pandas in /usr/local/lib/python3.11/dist-packages (from ipitin->akatool->mytool4docker->mydockeruse) (2.2.2)\n",
            "Requirement already satisfied: tensorflow in /usr/local/lib/python3.11/dist-packages (from ipitin->akatool->mytool4docker->mydockeruse) (2.18.0)\n",
            "Requirement already satisfied: numpy in /usr/local/lib/python3.11/dist-packages (from ipitin->akatool->mytool4docker->mydockeruse) (2.0.2)\n",
            "Collecting docker (from pydockerNpygit2->mytoolset->mytool4docker->mydockeruse)\n",
            "  Downloading docker-7.1.0-py3-none-any.whl.metadata (3.8 kB)\n",
            "Requirement already satisfied: pygit2 in /usr/local/lib/python3.11/dist-packages (from pydockerNpygit2->mytoolset->mytool4docker->mydockeruse) (1.17.0)\n",
            "Requirement already satisfied: mpmath<1.4,>=1.1.0 in /usr/local/lib/python3.11/dist-packages (from sympy->akatool->mytool4docker->mydockeruse) (1.3.0)\n",
            "Collecting owopkg (from clro->edprompt->akatool->mytool4docker->mydockeruse)\n",
            "  Downloading owopkg-0.0.2-py3-none-any.whl.metadata (811 bytes)\n",
            "Requirement already satisfied: requests>=2.26.0 in /usr/local/lib/python3.11/dist-packages (from docker->pydockerNpygit2->mytoolset->mytool4docker->mydockeruse) (2.32.3)\n",
            "Requirement already satisfied: urllib3>=1.26.0 in /usr/local/lib/python3.11/dist-packages (from docker->pydockerNpygit2->mytoolset->mytool4docker->mydockeruse) (2.3.0)\n",
            "Requirement already satisfied: python-dateutil>=2.8.2 in /usr/local/lib/python3.11/dist-packages (from pandas->ipitin->akatool->mytool4docker->mydockeruse) (2.8.2)\n",
            "Requirement already satisfied: pytz>=2020.1 in /usr/local/lib/python3.11/dist-packages (from pandas->ipitin->akatool->mytool4docker->mydockeruse) (2025.1)\n",
            "Requirement already satisfied: tzdata>=2022.7 in /usr/local/lib/python3.11/dist-packages (from pandas->ipitin->akatool->mytool4docker->mydockeruse) (2025.1)\n",
            "Requirement already satisfied: cffi>=1.17.0 in /usr/local/lib/python3.11/dist-packages (from pygit2->pydockerNpygit2->mytoolset->mytool4docker->mydockeruse) (1.17.1)\n",
            "Requirement already satisfied: absl-py>=1.0.0 in /usr/local/lib/python3.11/dist-packages (from tensorflow->ipitin->akatool->mytool4docker->mydockeruse) (1.4.0)\n",
            "Requirement already satisfied: astunparse>=1.6.0 in /usr/local/lib/python3.11/dist-packages (from tensorflow->ipitin->akatool->mytool4docker->mydockeruse) (1.6.3)\n",
            "Requirement already satisfied: flatbuffers>=24.3.25 in /usr/local/lib/python3.11/dist-packages (from tensorflow->ipitin->akatool->mytool4docker->mydockeruse) (25.2.10)\n",
            "Requirement already satisfied: gast!=0.5.0,!=0.5.1,!=0.5.2,>=0.2.1 in /usr/local/lib/python3.11/dist-packages (from tensorflow->ipitin->akatool->mytool4docker->mydockeruse) (0.6.0)\n",
            "Requirement already satisfied: google-pasta>=0.1.1 in /usr/local/lib/python3.11/dist-packages (from tensorflow->ipitin->akatool->mytool4docker->mydockeruse) (0.2.0)\n",
            "Requirement already satisfied: libclang>=13.0.0 in /usr/local/lib/python3.11/dist-packages (from tensorflow->ipitin->akatool->mytool4docker->mydockeruse) (18.1.1)\n",
            "Requirement already satisfied: opt-einsum>=2.3.2 in /usr/local/lib/python3.11/dist-packages (from tensorflow->ipitin->akatool->mytool4docker->mydockeruse) (3.4.0)\n",
            "Requirement already satisfied: packaging in /usr/local/lib/python3.11/dist-packages (from tensorflow->ipitin->akatool->mytool4docker->mydockeruse) (24.2)\n",
            "Requirement already satisfied: protobuf!=4.21.0,!=4.21.1,!=4.21.2,!=4.21.3,!=4.21.4,!=4.21.5,<6.0.0dev,>=3.20.3 in /usr/local/lib/python3.11/dist-packages (from tensorflow->ipitin->akatool->mytool4docker->mydockeruse) (4.25.6)\n",
            "Requirement already satisfied: setuptools in /usr/local/lib/python3.11/dist-packages (from tensorflow->ipitin->akatool->mytool4docker->mydockeruse) (75.1.0)\n",
            "Requirement already satisfied: six>=1.12.0 in /usr/local/lib/python3.11/dist-packages (from tensorflow->ipitin->akatool->mytool4docker->mydockeruse) (1.17.0)\n",
            "Requirement already satisfied: termcolor>=1.1.0 in /usr/local/lib/python3.11/dist-packages (from tensorflow->ipitin->akatool->mytool4docker->mydockeruse) (2.5.0)\n",
            "Requirement already satisfied: typing-extensions>=3.6.6 in /usr/local/lib/python3.11/dist-packages (from tensorflow->ipitin->akatool->mytool4docker->mydockeruse) (4.12.2)\n",
            "Requirement already satisfied: wrapt>=1.11.0 in /usr/local/lib/python3.11/dist-packages (from tensorflow->ipitin->akatool->mytool4docker->mydockeruse) (1.17.2)\n",
            "Requirement already satisfied: grpcio<2.0,>=1.24.3 in /usr/local/lib/python3.11/dist-packages (from tensorflow->ipitin->akatool->mytool4docker->mydockeruse) (1.71.0)\n",
            "Requirement already satisfied: tensorboard<2.19,>=2.18 in /usr/local/lib/python3.11/dist-packages (from tensorflow->ipitin->akatool->mytool4docker->mydockeruse) (2.18.0)\n",
            "Requirement already satisfied: keras>=3.5.0 in /usr/local/lib/python3.11/dist-packages (from tensorflow->ipitin->akatool->mytool4docker->mydockeruse) (3.8.0)\n",
            "Requirement already satisfied: h5py>=3.11.0 in /usr/local/lib/python3.11/dist-packages (from tensorflow->ipitin->akatool->mytool4docker->mydockeruse) (3.12.1)\n",
            "Requirement already satisfied: ml-dtypes<0.5.0,>=0.4.0 in /usr/local/lib/python3.11/dist-packages (from tensorflow->ipitin->akatool->mytool4docker->mydockeruse) (0.4.1)\n",
            "Requirement already satisfied: tensorflow-io-gcs-filesystem>=0.23.1 in /usr/local/lib/python3.11/dist-packages (from tensorflow->ipitin->akatool->mytool4docker->mydockeruse) (0.37.1)\n",
            "Requirement already satisfied: wheel<1.0,>=0.23.0 in /usr/local/lib/python3.11/dist-packages (from astunparse>=1.6.0->tensorflow->ipitin->akatool->mytool4docker->mydockeruse) (0.45.1)\n",
            "Requirement already satisfied: pycparser in /usr/local/lib/python3.11/dist-packages (from cffi>=1.17.0->pygit2->pydockerNpygit2->mytoolset->mytool4docker->mydockeruse) (2.22)\n",
            "Requirement already satisfied: rich in /usr/local/lib/python3.11/dist-packages (from keras>=3.5.0->tensorflow->ipitin->akatool->mytool4docker->mydockeruse) (13.9.4)\n",
            "Requirement already satisfied: namex in /usr/local/lib/python3.11/dist-packages (from keras>=3.5.0->tensorflow->ipitin->akatool->mytool4docker->mydockeruse) (0.0.8)\n",
            "Requirement already satisfied: optree in /usr/local/lib/python3.11/dist-packages (from keras>=3.5.0->tensorflow->ipitin->akatool->mytool4docker->mydockeruse) (0.14.1)\n",
            "Requirement already satisfied: charset-normalizer<4,>=2 in /usr/local/lib/python3.11/dist-packages (from requests>=2.26.0->docker->pydockerNpygit2->mytoolset->mytool4docker->mydockeruse) (3.4.1)\n",
            "Requirement already satisfied: idna<4,>=2.5 in /usr/local/lib/python3.11/dist-packages (from requests>=2.26.0->docker->pydockerNpygit2->mytoolset->mytool4docker->mydockeruse) (3.10)\n",
            "Requirement already satisfied: certifi>=2017.4.17 in /usr/local/lib/python3.11/dist-packages (from requests>=2.26.0->docker->pydockerNpygit2->mytoolset->mytool4docker->mydockeruse) (2025.1.31)\n",
            "Requirement already satisfied: markdown>=2.6.8 in /usr/local/lib/python3.11/dist-packages (from tensorboard<2.19,>=2.18->tensorflow->ipitin->akatool->mytool4docker->mydockeruse) (3.7)\n",
            "Requirement already satisfied: tensorboard-data-server<0.8.0,>=0.7.0 in /usr/local/lib/python3.11/dist-packages (from tensorboard<2.19,>=2.18->tensorflow->ipitin->akatool->mytool4docker->mydockeruse) (0.7.2)\n",
            "Requirement already satisfied: werkzeug>=1.0.1 in /usr/local/lib/python3.11/dist-packages (from tensorboard<2.19,>=2.18->tensorflow->ipitin->akatool->mytool4docker->mydockeruse) (3.1.3)\n",
            "Collecting subpr (from owopkg->clro->edprompt->akatool->mytool4docker->mydockeruse)\n",
            "  Downloading subpr-0.0.4-py3-none-any.whl.metadata (773 bytes)\n",
            "Collecting twine (from owopkg->clro->edprompt->akatool->mytool4docker->mydockeruse)\n",
            "  Downloading twine-6.1.0-py3-none-any.whl.metadata (3.7 kB)\n",
            "Requirement already satisfied: MarkupSafe>=2.1.1 in /usr/local/lib/python3.11/dist-packages (from werkzeug>=1.0.1->tensorboard<2.19,>=2.18->tensorflow->ipitin->akatool->mytool4docker->mydockeruse) (3.0.2)\n",
            "Requirement already satisfied: markdown-it-py>=2.2.0 in /usr/local/lib/python3.11/dist-packages (from rich->keras>=3.5.0->tensorflow->ipitin->akatool->mytool4docker->mydockeruse) (3.0.0)\n",
            "Requirement already satisfied: pygments<3.0.0,>=2.13.0 in /usr/local/lib/python3.11/dist-packages (from rich->keras>=3.5.0->tensorflow->ipitin->akatool->mytool4docker->mydockeruse) (2.18.0)\n",
            "Collecting martialLaw (from subpr->owopkg->clro->edprompt->akatool->mytool4docker->mydockeruse)\n",
            "  Downloading martialLaw-0.0.1-py3-none-any.whl.metadata (943 bytes)\n",
            "Collecting readme-renderer>=35.0 (from twine->owopkg->clro->edprompt->akatool->mytool4docker->mydockeruse)\n",
            "  Downloading readme_renderer-44.0-py3-none-any.whl.metadata (2.8 kB)\n",
            "Requirement already satisfied: requests-toolbelt!=0.9.0,>=0.8.0 in /usr/local/lib/python3.11/dist-packages (from twine->owopkg->clro->edprompt->akatool->mytool4docker->mydockeruse) (1.0.0)\n",
            "Requirement already satisfied: keyring>=15.1 in /usr/lib/python3/dist-packages (from twine->owopkg->clro->edprompt->akatool->mytool4docker->mydockeruse) (23.5.0)\n",
            "Collecting rfc3986>=1.4.0 (from twine->owopkg->clro->edprompt->akatool->mytool4docker->mydockeruse)\n",
            "  Downloading rfc3986-2.0.0-py2.py3-none-any.whl.metadata (6.6 kB)\n",
            "Collecting id (from twine->owopkg->clro->edprompt->akatool->mytool4docker->mydockeruse)\n",
            "  Downloading id-1.5.0-py3-none-any.whl.metadata (5.2 kB)\n",
            "Requirement already satisfied: mdurl~=0.1 in /usr/local/lib/python3.11/dist-packages (from markdown-it-py>=2.2.0->rich->keras>=3.5.0->tensorflow->ipitin->akatool->mytool4docker->mydockeruse) (0.1.2)\n",
            "Collecting nh3>=0.2.14 (from readme-renderer>=35.0->twine->owopkg->clro->edprompt->akatool->mytool4docker->mydockeruse)\n",
            "  Downloading nh3-0.2.21-cp38-abi3-manylinux_2_17_x86_64.manylinux2014_x86_64.whl.metadata (2.0 kB)\n",
            "Requirement already satisfied: docutils>=0.21.2 in /usr/local/lib/python3.11/dist-packages (from readme-renderer>=35.0->twine->owopkg->clro->edprompt->akatool->mytool4docker->mydockeruse) (0.21.2)\n",
            "Collecting YoonSuckYall (from martialLaw->subpr->owopkg->clro->edprompt->akatool->mytool4docker->mydockeruse)\n",
            "  Downloading YoonSuckYall-0.0.1-py3-none-any.whl.metadata (941 bytes)\n",
            "Collecting martialaw (from YoonSuckYall->martialLaw->subpr->owopkg->clro->edprompt->akatool->mytool4docker->mydockeruse)\n",
            "  Downloading martialaw-0.0.1-py3-none-any.whl.metadata (879 bytes)\n",
            "Downloading mydockeruse-0.0.5-py3-none-any.whl (3.2 kB)\n",
            "Downloading mytool4docker-0.0.1-py3-none-any.whl (2.7 kB)\n",
            "Downloading akatool-0.0.5-py3-none-any.whl (3.0 kB)\n",
            "Downloading mytoolset-0.0.3-py3-none-any.whl (2.7 kB)\n",
            "Downloading edprompt-0.0.10-py3-none-any.whl (2.8 kB)\n",
            "Downloading ipitin-0.0.3-py3-none-any.whl (2.7 kB)\n",
            "Downloading lbdc-0.0.3-py3-none-any.whl (2.5 kB)\n",
            "Downloading pydockerNpygit2-0.0.1-py3-none-any.whl (2.8 kB)\n",
            "Downloading clro-0.0.2-py3-none-any.whl (2.6 kB)\n",
            "Downloading docker-7.1.0-py3-none-any.whl (147 kB)\n",
            "\u001b[2K   \u001b[90m━━━━━━━━━━━━━━━━━━━━━━━━━━━━━━━━━━━━━━━━\u001b[0m \u001b[32m147.8/147.8 kB\u001b[0m \u001b[31m6.3 MB/s\u001b[0m eta \u001b[36m0:00:00\u001b[0m\n",
            "\u001b[?25hDownloading owopkg-0.0.2-py3-none-any.whl (4.0 kB)\n",
            "Downloading subpr-0.0.4-py3-none-any.whl (4.1 kB)\n",
            "Downloading twine-6.1.0-py3-none-any.whl (40 kB)\n",
            "\u001b[2K   \u001b[90m━━━━━━━━━━━━━━━━━━━━━━━━━━━━━━━━━━━━━━━━\u001b[0m \u001b[32m40.8/40.8 kB\u001b[0m \u001b[31m2.2 MB/s\u001b[0m eta \u001b[36m0:00:00\u001b[0m\n",
            "\u001b[?25hDownloading readme_renderer-44.0-py3-none-any.whl (13 kB)\n",
            "Downloading rfc3986-2.0.0-py2.py3-none-any.whl (31 kB)\n",
            "Downloading id-1.5.0-py3-none-any.whl (13 kB)\n",
            "Downloading martialLaw-0.0.1-py3-none-any.whl (2.3 kB)\n",
            "Downloading nh3-0.2.21-cp38-abi3-manylinux_2_17_x86_64.manylinux2014_x86_64.whl (739 kB)\n",
            "\u001b[2K   \u001b[90m━━━━━━━━━━━━━━━━━━━━━━━━━━━━━━━━━━━━━━━━\u001b[0m \u001b[32m739.0/739.0 kB\u001b[0m \u001b[31m33.6 MB/s\u001b[0m eta \u001b[36m0:00:00\u001b[0m\n",
            "\u001b[?25hDownloading YoonSuckYall-0.0.1-py3-none-any.whl (2.3 kB)\n",
            "Downloading martialaw-0.0.1-py3-none-any.whl (2.6 kB)\n",
            "Building wheels for collected packages: wget\n",
            "  Building wheel for wget (setup.py) ... \u001b[?25l\u001b[?25hdone\n",
            "  Created wheel for wget: filename=wget-3.2-py3-none-any.whl size=9656 sha256=a783d580e2f960277a6f67689960ffaa511f22cbb6f94caf1df0474dd9dc9f50\n",
            "  Stored in directory: /root/.cache/pip/wheels/40/b3/0f/a40dbd1c6861731779f62cc4babcb234387e11d697df70ee97\n",
            "Successfully built wget\n",
            "Installing collected packages: wget, rfc3986, nh3, martialaw, lbdc, YoonSuckYall, readme-renderer, id, docker, twine, pydockerNpygit2, martialLaw, subpr, mytoolset, owopkg, ipitin, clro, edprompt, akatool, mytool4docker, mydockeruse\n",
            "Successfully installed YoonSuckYall-0.0.1 akatool-0.0.5 clro-0.0.2 docker-7.1.0 edprompt-0.0.10 id-1.5.0 ipitin-0.0.3 lbdc-0.0.3 martialLaw-0.0.1 martialaw-0.0.1 mydockeruse-0.0.5 mytool4docker-0.0.1 mytoolset-0.0.3 nh3-0.2.21 owopkg-0.0.2 pydockerNpygit2-0.0.1 readme-renderer-44.0 rfc3986-2.0.0 subpr-0.0.4 twine-6.1.0 wget-3.2\n"
          ]
        }
      ],
      "source": [
        "%pip install mydockeruse"
      ]
    },
    {
      "cell_type": "code",
      "source": [
        "!python"
      ],
      "metadata": {
        "colab": {
          "base_uri": "https://localhost:8080/"
        },
        "id": "nLj5RkPGQ0QL",
        "outputId": "8c907f56-d717-47ca-f956-25784514134f"
      },
      "execution_count": 2,
      "outputs": [
        {
          "output_type": "stream",
          "name": "stdout",
          "text": [
            "Python 3.11.11 (main, Dec  4 2024, 08:55:07) [GCC 11.4.0] on linux\n",
            "Type \"help\", \"copyright\", \"credits\" or \"license\" for more information.\n",
            ">>> import akatool\n",
            ">>> -c\n",
            "clear command : clear\n",
            ">>> -x\n",
            "\u001b[H\u001b[2J>>> \n",
            ">>> \n",
            ">>> eixt()\n",
            "Traceback (most recent call last):\n",
            "  File \"<stdin>\", line 1, in <module>\n",
            "NameError: name 'eixt' is not defined\n",
            ">>> exit()\n"
          ]
        }
      ]
    }
  ]
}