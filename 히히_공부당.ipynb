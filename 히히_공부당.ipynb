{
  "nbformat": 4,
  "nbformat_minor": 0,
  "metadata": {
    "colab": {
      "provenance": [],
      "mount_file_id": "1sQq4qg7110PS_Hbk26uBX2CabG9MdloQ",
      "authorship_tag": "ABX9TyMPGY3a3OXXePxrqD8rDQg9",
      "include_colab_link": true
    },
    "kernelspec": {
      "name": "python3",
      "display_name": "Python 3"
    },
    "language_info": {
      "name": "python"
    }
  },
  "cells": [
    {
      "cell_type": "markdown",
      "metadata": {
        "id": "view-in-github",
        "colab_type": "text"
      },
      "source": [
        "<a href=\"https://colab.research.google.com/github/FarAway6834/SiuuUP/blob/main/%ED%9E%88%ED%9E%88_%EA%B3%B5%EB%B6%80%EB%8B%B9.ipynb\" target=\"_parent\"><img src=\"https://colab.research.google.com/assets/colab-badge.svg\" alt=\"Open In Colab\"/></a>"
      ]
    },
    {
      "cell_type": "markdown",
      "source": [
        "선생님 여기 아래있는 페키지 설치 코드 실행해도 되나요?"
      ],
      "metadata": {
        "id": "PJagpTxVndRt"
      }
    },
    {
      "cell_type": "code",
      "execution_count": null,
      "metadata": {
        "id": "8taM1zsPmDvY"
      },
      "outputs": [],
      "source": [
        "!pip install mytool4docker"
      ]
    },
    {
      "cell_type": "markdown",
      "source": [
        "# 메인 코드들"
      ],
      "metadata": {
        "id": "2MjW4T6anpY9"
      }
    },
    {
      "cell_type": "code",
      "source": [
        "pass"
      ],
      "metadata": {
        "id": "be1n5mLPnxJs"
      },
      "execution_count": null,
      "outputs": []
    }
  ]
}