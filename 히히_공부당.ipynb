{
  "nbformat": 4,
  "nbformat_minor": 0,
  "metadata": {
    "colab": {
      "provenance": [],
      "mount_file_id": "1sQq4qg7110PS_Hbk26uBX2CabG9MdloQ",
      "authorship_tag": "ABX9TyNrlh3vpveUj6L4wQstcWYl",
      "include_colab_link": true
    },
    "kernelspec": {
      "name": "python3",
      "display_name": "Python 3"
    },
    "language_info": {
      "name": "python"
    }
  },
  "cells": [
    {
      "cell_type": "markdown",
      "metadata": {
        "id": "view-in-github",
        "colab_type": "text"
      },
      "source": [
        "<a href=\"https://colab.research.google.com/github/FarAway6834/SiuuUP/blob/main/%ED%9E%88%ED%9E%88_%EA%B3%B5%EB%B6%80%EB%8B%B9.ipynb\" target=\"_parent\"><img src=\"https://colab.research.google.com/assets/colab-badge.svg\" alt=\"Open In Colab\"/></a>"
      ]
    },
    {
      "cell_type": "markdown",
      "source": [
        "참고 : 어디다가 저장할지 몰라서 깃헙이 (코랩 노트북 저장처중에) 있길래 썼어용"
      ],
      "metadata": {
        "id": "cIczb8smtmqW"
      }
    },
    {
      "cell_type": "markdown",
      "source": [
        "선생님 여기 아래있는 페키지 설치 코드 실행해도 되나요?"
      ],
      "metadata": {
        "id": "PJagpTxVndRt"
      }
    },
    {
      "cell_type": "code",
      "execution_count": null,
      "metadata": {
        "id": "8taM1zsPmDvY"
      },
      "outputs": [],
      "source": [
        "!pip install mytool4docker"
      ]
    },
    {
      "cell_type": "markdown",
      "source": [
        "# 메인 코드들"
      ],
      "metadata": {
        "id": "2MjW4T6anpY9"
      }
    },
    {
      "cell_type": "code",
      "source": [
        "pass"
      ],
      "metadata": {
        "id": "be1n5mLPnxJs"
      },
      "execution_count": null,
      "outputs": []
    },
    {
      "cell_type": "markdown",
      "source": [
        "# 노트\n",
        "## SW의 종류\n",
        "\n",
        "- System SW\n",
        "  - OS\n",
        "  - Utillity\n",
        "- Programming SW\n",
        "  - Compiler & interpreter\n",
        "  - Debuger & Linker\n",
        "  - Text editer\n",
        "- Application\n",
        "  - Document Editior\n",
        "  - Spreadsheet\n",
        "  - PPT program\n",
        "  - DB program\n",
        "\n",
        "## Low-Level Language vs High-Level Language\n",
        "\n",
        "Low-Level = Closed 2 CPU / High-Level = Closed 2 Human\n",
        "스팩트럼 계급을 만들어서 로우에벨과 하이레벨을 구분하는거.\n",
        "\n",
        " + 선생님을 이를두고 `이과생들 너무 어휘력 딸려서 이딴 명명을 한게 아닌가`하고 깠다 ㅋ.\n",
        "\n",
        "  - Low-Level\n",
        "    - Automata에서 Executible하거나 단순하게 변환해서 실행 가능\n",
        "    - 전혀 High하지 않음.\n",
        "    - Machine code & Assambly 등\n",
        "\n",
        "  - High-Level\n",
        "    - 인간이 이해하고 사용하기 용이함\n",
        "    - 보통 interpreter나 compiler 등이 필요하다.\n",
        "    - 그래서 보통 interpreter나 compiler로 나뉜다.\n",
        "\n",
        "오우쉣 선생님께서 자료 옿ㄹ려루신다는ㄷ\n",
        "\n",
        "## 분야에 따른 lang 분류\n",
        "\n",
        "- Web\n",
        "  - HTML/CSS, JS, PHP, Java...????\n",
        "  - ASP, JSP\n",
        "- Game Dev\n",
        "  - C# (Unity : 본 수업에선 서용을 못하게 됨), ActionScript, Gamemaker\n",
        "- Educational Programming Language\n",
        "  - Block Coding\n",
        "    - Blocklee 계열\n",
        "      - Entry\n",
        "    - Scratch\n",
        "  - 왜 그렇게 말하신지 모르겠는데 선생님은 Python은 OOP EPL인데 기능 추가하고 등등해서 발전했다고.............. 하심.\n",
        "\n",
        "선생님은 60넘으면 퇴직하실 나인데 구글에서 영입할정도라고 칭송하심.\n",
        "\n",
        "## Python의 장점\n",
        "\n",
        "- 배우기 쉽다 - Syntax, Interpreter\n",
        "아... 그리고 거기 특성화고에서는 C보다는 Python을 하는게 나았겠다 하실정도로 비교적 쉽다고 하셧다. (사실 C먼저 배운사람에겐 다수 어려울수 있다)\n",
        "print만 봐도 이게 차이가 확 보인다\n",
        "- 사용하기 쉽다 - 다양한 Lib(Pkg) 제공\n",
        "웹 코드만 봐도\n",
        "Java는 겁나 복잡하게 쓰이는데 Python은 가히 놀라울정도로 잘되어있다\n",
        "~~에초에 코드에도 여유가...~~ ~~C는 따로 그러기 어렵ㄱ~~\n",
        "- (따라서) 생산성이 뛰어나다.\n",
        "  - 걸리는 시간이 짧다 그러하다, (perl이 현역일때 작업도 마찬가지.... ㄷㄷㄷ)\n",
        "\n",
        "## 앞으로 배울때\n",
        "앞으로 배울때 끌떄 분탕이나 이런거 하지말고 먼저끌려는 마음떄문에 안끄고 가지 말고 잘 끄는 습관을 들여라."
      ],
      "metadata": {
        "id": "b5Q9IG1cowFN"
      }
    }
  ]
}