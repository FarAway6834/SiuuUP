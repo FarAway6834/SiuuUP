{
  "nbformat": 4,
  "nbformat_minor": 0,
  "metadata": {
    "colab": {
      "provenance": [],
      "include_colab_link": true
    },
    "kernelspec": {
      "name": "python3",
      "display_name": "Python 3"
    },
    "language_info": {
      "name": "python"
    }
  },
  "cells": [
    {
      "cell_type": "markdown",
      "metadata": {
        "id": "view-in-github",
        "colab_type": "text"
      },
      "source": [
        "<a href=\"https://colab.research.google.com/github/FarAway6834/SiuuUP/blob/main/%ED%9E%88%ED%9E%88_%EA%B3%B5%EB%B6%80%EB%8B%B9.ipynb\" target=\"_parent\"><img src=\"https://colab.research.google.com/assets/colab-badge.svg\" alt=\"Open In Colab\"/></a>"
      ]
    },
    {
      "cell_type": "markdown",
      "source": [
        "참고 : 어디다가 저장할지 몰라서 깃헙이 (코랩 노트북 저장처중에) 있길래 썼어용"
      ],
      "metadata": {
        "id": "cIczb8smtmqW"
      }
    },
    {
      "cell_type": "markdown",
      "source": [
        "선생님 여기 아래있는 페키지 설치 코드 실행해도 되나요?"
      ],
      "metadata": {
        "id": "PJagpTxVndRt"
      }
    },
    {
      "cell_type": "code",
      "execution_count": 3,
      "metadata": {
        "id": "8taM1zsPmDvY",
        "outputId": "9ac12601-e84a-4d30-88db-c2cb95d8bed5",
        "colab": {
          "base_uri": "https://localhost:8080/"
        }
      },
      "outputs": [
        {
          "output_type": "stream",
          "name": "stdout",
          "text": [
            "Requirement already satisfied: mytool4docker in /usr/local/lib/python3.11/dist-packages (0.0.1)\n",
            "Requirement already satisfied: akatool in /usr/local/lib/python3.11/dist-packages (from mytool4docker) (0.0.5)\n",
            "Requirement already satisfied: mytoolset in /usr/local/lib/python3.11/dist-packages (from mytool4docker) (0.0.3)\n",
            "Requirement already satisfied: edprompt in /usr/local/lib/python3.11/dist-packages (from akatool->mytool4docker) (0.0.10)\n",
            "Requirement already satisfied: lbdc in /usr/local/lib/python3.11/dist-packages (from akatool->mytool4docker) (0.0.3)\n",
            "Requirement already satisfied: sympy in /usr/local/lib/python3.11/dist-packages (from akatool->mytool4docker) (1.13.1)\n",
            "Requirement already satisfied: ipitin in /usr/local/lib/python3.11/dist-packages (from akatool->mytool4docker) (0.0.3)\n",
            "Requirement already satisfied: wget in /usr/local/lib/python3.11/dist-packages (from mytoolset->mytool4docker) (3.2)\n",
            "Requirement already satisfied: pydockerNpygit2 in /usr/local/lib/python3.11/dist-packages (from mytoolset->mytool4docker) (0.0.1)\n",
            "Requirement already satisfied: clro in /usr/local/lib/python3.11/dist-packages (from edprompt->akatool->mytool4docker) (0.0.2)\n",
            "Requirement already satisfied: pandas in /usr/local/lib/python3.11/dist-packages (from ipitin->akatool->mytool4docker) (2.2.2)\n",
            "Requirement already satisfied: tensorflow in /usr/local/lib/python3.11/dist-packages (from ipitin->akatool->mytool4docker) (2.18.0)\n",
            "Requirement already satisfied: numpy in /usr/local/lib/python3.11/dist-packages (from ipitin->akatool->mytool4docker) (1.26.4)\n",
            "Requirement already satisfied: docker in /usr/local/lib/python3.11/dist-packages (from pydockerNpygit2->mytoolset->mytool4docker) (7.1.0)\n",
            "Requirement already satisfied: pygit2 in /usr/local/lib/python3.11/dist-packages (from pydockerNpygit2->mytoolset->mytool4docker) (1.17.0)\n",
            "Requirement already satisfied: mpmath<1.4,>=1.1.0 in /usr/local/lib/python3.11/dist-packages (from sympy->akatool->mytool4docker) (1.3.0)\n",
            "Requirement already satisfied: owopkg in /usr/local/lib/python3.11/dist-packages (from clro->edprompt->akatool->mytool4docker) (0.0.2)\n",
            "Requirement already satisfied: requests>=2.26.0 in /usr/local/lib/python3.11/dist-packages (from docker->pydockerNpygit2->mytoolset->mytool4docker) (2.32.3)\n",
            "Requirement already satisfied: urllib3>=1.26.0 in /usr/local/lib/python3.11/dist-packages (from docker->pydockerNpygit2->mytoolset->mytool4docker) (2.3.0)\n",
            "Requirement already satisfied: python-dateutil>=2.8.2 in /usr/local/lib/python3.11/dist-packages (from pandas->ipitin->akatool->mytool4docker) (2.8.2)\n",
            "Requirement already satisfied: pytz>=2020.1 in /usr/local/lib/python3.11/dist-packages (from pandas->ipitin->akatool->mytool4docker) (2025.1)\n",
            "Requirement already satisfied: tzdata>=2022.7 in /usr/local/lib/python3.11/dist-packages (from pandas->ipitin->akatool->mytool4docker) (2025.1)\n",
            "Requirement already satisfied: cffi>=1.17.0 in /usr/local/lib/python3.11/dist-packages (from pygit2->pydockerNpygit2->mytoolset->mytool4docker) (1.17.1)\n",
            "Requirement already satisfied: absl-py>=1.0.0 in /usr/local/lib/python3.11/dist-packages (from tensorflow->ipitin->akatool->mytool4docker) (1.4.0)\n",
            "Requirement already satisfied: astunparse>=1.6.0 in /usr/local/lib/python3.11/dist-packages (from tensorflow->ipitin->akatool->mytool4docker) (1.6.3)\n",
            "Requirement already satisfied: flatbuffers>=24.3.25 in /usr/local/lib/python3.11/dist-packages (from tensorflow->ipitin->akatool->mytool4docker) (25.2.10)\n",
            "Requirement already satisfied: gast!=0.5.0,!=0.5.1,!=0.5.2,>=0.2.1 in /usr/local/lib/python3.11/dist-packages (from tensorflow->ipitin->akatool->mytool4docker) (0.6.0)\n",
            "Requirement already satisfied: google-pasta>=0.1.1 in /usr/local/lib/python3.11/dist-packages (from tensorflow->ipitin->akatool->mytool4docker) (0.2.0)\n",
            "Requirement already satisfied: libclang>=13.0.0 in /usr/local/lib/python3.11/dist-packages (from tensorflow->ipitin->akatool->mytool4docker) (18.1.1)\n",
            "Requirement already satisfied: opt-einsum>=2.3.2 in /usr/local/lib/python3.11/dist-packages (from tensorflow->ipitin->akatool->mytool4docker) (3.4.0)\n",
            "Requirement already satisfied: packaging in /usr/local/lib/python3.11/dist-packages (from tensorflow->ipitin->akatool->mytool4docker) (24.2)\n",
            "Requirement already satisfied: protobuf!=4.21.0,!=4.21.1,!=4.21.2,!=4.21.3,!=4.21.4,!=4.21.5,<6.0.0dev,>=3.20.3 in /usr/local/lib/python3.11/dist-packages (from tensorflow->ipitin->akatool->mytool4docker) (4.25.6)\n",
            "Requirement already satisfied: setuptools in /usr/local/lib/python3.11/dist-packages (from tensorflow->ipitin->akatool->mytool4docker) (75.1.0)\n",
            "Requirement already satisfied: six>=1.12.0 in /usr/local/lib/python3.11/dist-packages (from tensorflow->ipitin->akatool->mytool4docker) (1.17.0)\n",
            "Requirement already satisfied: termcolor>=1.1.0 in /usr/local/lib/python3.11/dist-packages (from tensorflow->ipitin->akatool->mytool4docker) (2.5.0)\n",
            "Requirement already satisfied: typing-extensions>=3.6.6 in /usr/local/lib/python3.11/dist-packages (from tensorflow->ipitin->akatool->mytool4docker) (4.12.2)\n",
            "Requirement already satisfied: wrapt>=1.11.0 in /usr/local/lib/python3.11/dist-packages (from tensorflow->ipitin->akatool->mytool4docker) (1.17.2)\n",
            "Requirement already satisfied: grpcio<2.0,>=1.24.3 in /usr/local/lib/python3.11/dist-packages (from tensorflow->ipitin->akatool->mytool4docker) (1.70.0)\n",
            "Requirement already satisfied: tensorboard<2.19,>=2.18 in /usr/local/lib/python3.11/dist-packages (from tensorflow->ipitin->akatool->mytool4docker) (2.18.0)\n",
            "Requirement already satisfied: keras>=3.5.0 in /usr/local/lib/python3.11/dist-packages (from tensorflow->ipitin->akatool->mytool4docker) (3.8.0)\n",
            "Requirement already satisfied: h5py>=3.11.0 in /usr/local/lib/python3.11/dist-packages (from tensorflow->ipitin->akatool->mytool4docker) (3.12.1)\n",
            "Requirement already satisfied: ml-dtypes<0.5.0,>=0.4.0 in /usr/local/lib/python3.11/dist-packages (from tensorflow->ipitin->akatool->mytool4docker) (0.4.1)\n",
            "Requirement already satisfied: tensorflow-io-gcs-filesystem>=0.23.1 in /usr/local/lib/python3.11/dist-packages (from tensorflow->ipitin->akatool->mytool4docker) (0.37.1)\n",
            "Requirement already satisfied: wheel<1.0,>=0.23.0 in /usr/local/lib/python3.11/dist-packages (from astunparse>=1.6.0->tensorflow->ipitin->akatool->mytool4docker) (0.45.1)\n",
            "Requirement already satisfied: pycparser in /usr/local/lib/python3.11/dist-packages (from cffi>=1.17.0->pygit2->pydockerNpygit2->mytoolset->mytool4docker) (2.22)\n",
            "Requirement already satisfied: rich in /usr/local/lib/python3.11/dist-packages (from keras>=3.5.0->tensorflow->ipitin->akatool->mytool4docker) (13.9.4)\n",
            "Requirement already satisfied: namex in /usr/local/lib/python3.11/dist-packages (from keras>=3.5.0->tensorflow->ipitin->akatool->mytool4docker) (0.0.8)\n",
            "Requirement already satisfied: optree in /usr/local/lib/python3.11/dist-packages (from keras>=3.5.0->tensorflow->ipitin->akatool->mytool4docker) (0.14.1)\n",
            "Requirement already satisfied: charset-normalizer<4,>=2 in /usr/local/lib/python3.11/dist-packages (from requests>=2.26.0->docker->pydockerNpygit2->mytoolset->mytool4docker) (3.4.1)\n",
            "Requirement already satisfied: idna<4,>=2.5 in /usr/local/lib/python3.11/dist-packages (from requests>=2.26.0->docker->pydockerNpygit2->mytoolset->mytool4docker) (3.10)\n",
            "Requirement already satisfied: certifi>=2017.4.17 in /usr/local/lib/python3.11/dist-packages (from requests>=2.26.0->docker->pydockerNpygit2->mytoolset->mytool4docker) (2025.1.31)\n",
            "Requirement already satisfied: markdown>=2.6.8 in /usr/local/lib/python3.11/dist-packages (from tensorboard<2.19,>=2.18->tensorflow->ipitin->akatool->mytool4docker) (3.7)\n",
            "Requirement already satisfied: tensorboard-data-server<0.8.0,>=0.7.0 in /usr/local/lib/python3.11/dist-packages (from tensorboard<2.19,>=2.18->tensorflow->ipitin->akatool->mytool4docker) (0.7.2)\n",
            "Requirement already satisfied: werkzeug>=1.0.1 in /usr/local/lib/python3.11/dist-packages (from tensorboard<2.19,>=2.18->tensorflow->ipitin->akatool->mytool4docker) (3.1.3)\n",
            "Requirement already satisfied: subpr in /usr/local/lib/python3.11/dist-packages (from owopkg->clro->edprompt->akatool->mytool4docker) (0.0.2)\n",
            "Requirement already satisfied: twine in /usr/local/lib/python3.11/dist-packages (from owopkg->clro->edprompt->akatool->mytool4docker) (6.1.0)\n",
            "Requirement already satisfied: MarkupSafe>=2.1.1 in /usr/local/lib/python3.11/dist-packages (from werkzeug>=1.0.1->tensorboard<2.19,>=2.18->tensorflow->ipitin->akatool->mytool4docker) (3.0.2)\n",
            "Requirement already satisfied: markdown-it-py>=2.2.0 in /usr/local/lib/python3.11/dist-packages (from rich->keras>=3.5.0->tensorflow->ipitin->akatool->mytool4docker) (3.0.0)\n",
            "Requirement already satisfied: pygments<3.0.0,>=2.13.0 in /usr/local/lib/python3.11/dist-packages (from rich->keras>=3.5.0->tensorflow->ipitin->akatool->mytool4docker) (2.18.0)\n",
            "Requirement already satisfied: martialLaw in /usr/local/lib/python3.11/dist-packages (from subpr->owopkg->clro->edprompt->akatool->mytool4docker) (0.0.1)\n",
            "Requirement already satisfied: readme-renderer>=35.0 in /usr/local/lib/python3.11/dist-packages (from twine->owopkg->clro->edprompt->akatool->mytool4docker) (44.0)\n",
            "Requirement already satisfied: requests-toolbelt!=0.9.0,>=0.8.0 in /usr/local/lib/python3.11/dist-packages (from twine->owopkg->clro->edprompt->akatool->mytool4docker) (1.0.0)\n",
            "Requirement already satisfied: keyring>=15.1 in /usr/lib/python3/dist-packages (from twine->owopkg->clro->edprompt->akatool->mytool4docker) (23.5.0)\n",
            "Requirement already satisfied: rfc3986>=1.4.0 in /usr/local/lib/python3.11/dist-packages (from twine->owopkg->clro->edprompt->akatool->mytool4docker) (2.0.0)\n",
            "Requirement already satisfied: id in /usr/local/lib/python3.11/dist-packages (from twine->owopkg->clro->edprompt->akatool->mytool4docker) (1.5.0)\n",
            "Requirement already satisfied: mdurl~=0.1 in /usr/local/lib/python3.11/dist-packages (from markdown-it-py>=2.2.0->rich->keras>=3.5.0->tensorflow->ipitin->akatool->mytool4docker) (0.1.2)\n",
            "Requirement already satisfied: nh3>=0.2.14 in /usr/local/lib/python3.11/dist-packages (from readme-renderer>=35.0->twine->owopkg->clro->edprompt->akatool->mytool4docker) (0.2.21)\n",
            "Requirement already satisfied: docutils>=0.21.2 in /usr/local/lib/python3.11/dist-packages (from readme-renderer>=35.0->twine->owopkg->clro->edprompt->akatool->mytool4docker) (0.21.2)\n",
            "Requirement already satisfied: YoonSuckYall in /usr/local/lib/python3.11/dist-packages (from martialLaw->subpr->owopkg->clro->edprompt->akatool->mytool4docker) (0.0.1)\n",
            "Requirement already satisfied: martialaw in /usr/local/lib/python3.11/dist-packages (from YoonSuckYall->martialLaw->subpr->owopkg->clro->edprompt->akatool->mytool4docker) (0.0.1)\n"
          ]
        }
      ],
      "source": [
        "%pip install mytool4docker"
      ]
    },
    {
      "cell_type": "markdown",
      "source": [
        "# 메인 코드들"
      ],
      "metadata": {
        "id": "2MjW4T6anpY9"
      }
    },
    {
      "cell_type": "code",
      "source": [
        "pass"
      ],
      "metadata": {
        "id": "be1n5mLPnxJs"
      },
      "execution_count": 2,
      "outputs": []
    },
    {
      "cell_type": "markdown",
      "source": [
        "# 노트\n",
        "## SW의 종류\n",
        "\n",
        "- System SW\n",
        "  - OS\n",
        "  - Utillity\n",
        "- Programming SW\n",
        "  - Compiler & interpreter\n",
        "  - Debuger & Linker\n",
        "  - Text editer\n",
        "- Application\n",
        "  - Document Editior\n",
        "  - Spreadsheet\n",
        "  - PPT program\n",
        "  - DB program\n",
        "\n",
        "## Low-Level Language vs High-Level Language\n",
        "\n",
        "Low-Level = Closed 2 CPU / High-Level = Closed 2 Human\n",
        "스팩트럼 계급을 만들어서 로우에벨과 하이레벨을 구분하는거.\n",
        "\n",
        " + 선생님을 이를두고 `이과생들 너무 어휘력 딸려서 이딴 명명을 한게 아닌가`하고 깠다 ㅋ.\n",
        "\n",
        "  - Low-Level\n",
        "    - Automata에서 Executible하거나 단순하게 변환해서 실행 가능\n",
        "    - 전혀 High하지 않음.\n",
        "    - Machine code & Assambly 등\n",
        "\n",
        "  - High-Level\n",
        "    - 인간이 이해하고 사용하기 용이함\n",
        "    - 보통 interpreter나 compiler 등이 필요하다.\n",
        "    - 그래서 보통 interpreter나 compiler로 나뉜다.\n",
        "\n",
        "오우쉣 선생님께서 자료 옿ㄹ려루신다는ㄷ\n",
        "\n",
        "## 분야에 따른 lang 분류\n",
        "\n",
        "- Web\n",
        "  - HTML/CSS, JS, PHP, Java...????\n",
        "  - ASP, JSP\n",
        "- Game Dev\n",
        "  - C# (Unity : 본 수업에선 서용을 못하게 됨), ActionScript, Gamemaker\n",
        "- Educational Programming Language\n",
        "  - Block Coding\n",
        "    - Blocklee 계열\n",
        "      - Entry\n",
        "    - Scratch\n",
        "  - 왜 그렇게 말하신지 모르겠는데 선생님은 Python은 OOP EPL인데 기능 추가하고 등등해서 발전했다고.............. 하심.\n",
        "\n",
        "선생님은 60넘으면 퇴직하실 나인데 구글에서 영입할정도라고 칭송하심.\n",
        "\n",
        "## Python의 장점\n",
        "\n",
        "- 배우기 쉽다 - Syntax, Interpreter\n",
        "아... 그리고 거기 특성화고에서는 C보다는 Python을 하는게 나았겠다 하실정도로 비교적 쉽다고 하셧다. (사실 C먼저 배운사람에겐 다수 어려울수 있다)\n",
        "print만 봐도 이게 차이가 확 보인다\n",
        "- 사용하기 쉽다 - 다양한 Lib(Pkg) 제공\n",
        "웹 코드만 봐도\n",
        "Java는 겁나 복잡하게 쓰이는데 Python은 가히 놀라울정도로 잘되어있다\n",
        "~~에초에 코드에도 여유가...~~ ~~C는 따로 그러기 어렵ㄱ~~\n",
        "- (따라서) 생산성이 뛰어나다.\n",
        "  - 걸리는 시간이 짧다 그러하다, (perl이 현역일때 작업도 마찬가지.... ㄷㄷㄷ)\n",
        "\n",
        "## 앞으로 배울때\n",
        "앞으로 배울때 끌떄 분탕이나 이런거 하지말고 먼저끌려는 마음떄문에 안끄고 가지 말고 잘 끄는 습관을 들여라."
      ],
      "metadata": {
        "id": "b5Q9IG1cowFN"
      }
    }
  ]
}